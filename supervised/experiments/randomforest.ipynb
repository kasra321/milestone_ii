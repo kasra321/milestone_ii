{
  "cells": [
    {
      "cell_type": "code",
      "execution_count": 7,
      "metadata": {
        "id": "4OGhdgJ3QTU6"
      },
      "outputs": [],
      "source": [
        "import sys\n",
        "sys.path.append('..')\n",
        "\n",
        "import os\n",
        "import warnings\n",
        "\n",
        "import joblib\n",
        "import pandas as pd\n",
        "import numpy as np\n",
        "import spacy\n",
        "from tqdm.auto import tqdm as tqdm_func\n",
        "from sklearn.ensemble import RandomForestClassifier\n",
        "from sklearn.model_selection import train_test_split, GridSearchCV, KFold\n",
        "\n",
        "from utils.data_utils import load_data, process_data_for_rf\n",
        "from utils.evaluation import evaluate_model\n",
        "\n",
        "from IPython.display import display, Markdown"
      ]
    },
    {
      "cell_type": "code",
      "execution_count": 8,
      "metadata": {
        "id": "2IFak_AERTd6"
      },
      "outputs": [],
      "source": [
        "warnings.filterwarnings('ignore')\n",
        "\n",
        "# Load spaCy model for NLP tasks\n",
        "# May need to run python command first to download\n",
        "#!python -m spacy download en_core_web_sm\n",
        "nlp = spacy.load('en_core_web_sm')"
      ]
    },
    {
      "cell_type": "code",
      "execution_count": 9,
      "metadata": {
        "id": "ZMS5Yz4wRgKh"
      },
      "outputs": [],
      "source": [
        "def train_pipeline(X_train, y_train, cv_folds=5, param_grid=None):\n",
        "    \"\"\"\n",
        "    Train a RandomForest model using k-fold cross-validation with hyperparameter tuning.\n",
        "\n",
        "    Parameters:\n",
        "    - X_train: Training features (DataFrame or array)\n",
        "    - y_train: Training labels (Series or array)\n",
        "    - cv_folds: Number of folds for cross-validation.\n",
        "    - param_grid: Dictionary of hyperparameters to search over.\n",
        "\n",
        "    Returns:\n",
        "    - best_model: The best RandomForest model found via GridSearchCV.\n",
        "    - grid_search: The fitted GridSearchCV object (for further inspection if needed).\n",
        "    \"\"\"\n",
        "    # Set default hyperparameter grid if not provided\n",
        "    if param_grid is None:\n",
        "        param_grid = {\n",
        "            \"n_estimators\": [50, 100, 150],\n",
        "            \"max_depth\": [None, 10, 20],\n",
        "            \"min_samples_split\": [2, 5],\n",
        "            \"min_samples_leaf\": [1, 2]\n",
        "        }\n",
        "\n",
        "    # Initialize the random forest classifier\n",
        "    rf = RandomForestClassifier(random_state=42)\n",
        "\n",
        "    # Setup k-fold cross-validation\n",
        "    kfold = KFold(n_splits=cv_folds, shuffle=True, random_state=42)\n",
        "\n",
        "    # Initialize GridSearchCV for hyperparameter tuning\n",
        "    grid_search = GridSearchCV(\n",
        "        estimator=rf,\n",
        "        param_grid=param_grid,\n",
        "        cv=kfold,\n",
        "        scoring='accuracy',\n",
        "        n_jobs=-1,\n",
        "        refit=True,  # refit on the entire training set with the best params\n",
        "        verbose=2\n",
        "    )\n",
        "\n",
        "    # Fit grid search\n",
        "    grid_search.fit(X_train, y_train)\n",
        "\n",
        "    print(\"Best parameters found:\", grid_search.best_params_)\n",
        "    print(\"Best cross-validation accuracy: {:.4f}\".format(grid_search.best_score_))\n",
        "\n",
        "    best_model = grid_search.best_estimator_\n",
        "    return best_model, grid_search"
      ]
    },
    {
      "cell_type": "markdown",
      "metadata": {},
      "source": [
        "### Train the model using the pipeline with k-fold validation and hyperparameter tuning"
      ]
    },
    {
      "cell_type": "code",
      "execution_count": 10,
      "metadata": {},
      "outputs": [
        {
          "name": "stdout",
          "output_type": "stream",
          "text": [
            "Using existing complexity features from DataFrame...\n",
            "Fitting 5 folds for each of 36 candidates, totalling 180 fits\n",
            "Best parameters found: {'max_depth': None, 'min_samples_leaf': 2, 'min_samples_split': 2, 'n_estimators': 150}\n",
            "Best cross-validation accuracy: 0.6178\n"
          ]
        },
        {
          "data": {
            "text/markdown": [
              "# Random Forest Evaluation Results\n",
              "\n",
              "## Metrics\n",
              "\n",
              "| Metric                    | Score    |\n",
              "|---------------------------|----------|\n",
              "| Validation Accuracy       | 0.6200 |\n",
              "| Validation F1 Score (weighted) | 0.6083 |\n",
              "| Validation Precision (weighted) | 0.6045 |\n",
              "| Validation Recall (class 1) | 0.7619 |\n",
              "| Binary Precision (class 1) | 0.6761 |\n",
              "| Binary F1 Score (class 1) | 0.7164 |\n",
              "| ROC-AUC Score             | 0.5337 |\n",
              "\n",
              "## Detailed Classification Report\n",
              "\n",
              "```\n",
              "              precision    recall  f1-score   support\n",
              "\n",
              "           0       0.48      0.38      0.42        37\n",
              "           1       0.68      0.76      0.72        63\n",
              "\n",
              "    accuracy                           0.62       100\n",
              "   macro avg       0.58      0.57      0.57       100\n",
              "weighted avg       0.60      0.62      0.61       100\n",
              "\n",
              "```\n"
            ],
            "text/plain": [
              "<IPython.core.display.Markdown object>"
            ]
          },
          "metadata": {},
          "output_type": "display_data"
        }
      ],
      "source": [
        "# Load data\n",
        "df = load_data('../data/train.csv', num_rows=1000)\n",
        "\n",
        "# Process data\n",
        "rf_obj = process_data_for_rf(df)\n",
        "X = rf_obj['X']\n",
        "y = rf_obj['y'] \n",
        "scaler = rf_obj['scaler']\n",
        "encoder = rf_obj['encoder']\n",
        "\n",
        "X_train, X_test, y_train, y_test = train_test_split(X, y, test_size=0.1, random_state=42)\n",
        "best_model, grid_search = train_pipeline(X_train, y_train, cv_folds=5)\n",
        "\n",
        "y_predictions = best_model.predict(X_test)\n",
        "y_probabilities = best_model.predict_proba(X_test)[:, 1]\n",
        "\n",
        "rf_metrics, rf_markdown = evaluate_model(\n",
        "    y_test,\n",
        "    y_predictions,\n",
        "    y_probabilities,\n",
        "    model_name=\"Random Forest\"\n",
        ")\n",
        "\n",
        "display(Markdown(rf_markdown))"
      ]
    },
    {
      "cell_type": "markdown",
      "metadata": {},
      "source": [
        "### Train final model on best model configuration found as a consequence of hyperparameter tuning. "
      ]
    },
    {
      "cell_type": "code",
      "execution_count": 12,
      "metadata": {},
      "outputs": [
        {
          "name": "stdout",
          "output_type": "stream",
          "text": [
            "Using existing complexity features from DataFrame...\n"
          ]
        },
        {
          "data": {
            "text/markdown": [
              "# Random Forest Evaluation Results\n",
              "\n",
              "## Metrics\n",
              "\n",
              "| Metric                    | Score    |\n",
              "|---------------------------|----------|\n",
              "| Validation Accuracy       | 0.6628 |\n",
              "| Validation F1 Score (weighted) | 0.6375 |\n",
              "| Validation Precision (weighted) | 0.6541 |\n",
              "| Validation Recall (class 1) | 0.8601 |\n",
              "| Binary Precision (class 1) | 0.6745 |\n",
              "| Binary F1 Score (class 1) | 0.7561 |\n",
              "| ROC-AUC Score             | 0.6924 |\n",
              "\n",
              "## Detailed Classification Report\n",
              "\n",
              "```\n",
              "              precision    recall  f1-score   support\n",
              "\n",
              "           0       0.62      0.36      0.45     16100\n",
              "           1       0.67      0.86      0.76     24933\n",
              "\n",
              "    accuracy                           0.66     41033\n",
              "   macro avg       0.65      0.61      0.60     41033\n",
              "weighted avg       0.65      0.66      0.64     41033\n",
              "\n",
              "```\n"
            ],
            "text/plain": [
              "<IPython.core.display.Markdown object>"
            ]
          },
          "metadata": {},
          "output_type": "display_data"
        },
        {
          "name": "stdout",
          "output_type": "stream",
          "text": [
            "Completed training on 369293 rows\n"
          ]
        }
      ],
      "source": [
        "# Load all data\n",
        "df_all = load_data('../data/train.csv')\n",
        "\n",
        "# Process and split data\n",
        "rf_obj = process_data_for_rf(df_all)\n",
        "X = rf_obj['X']\n",
        "y = rf_obj['y'] \n",
        "scaler = rf_obj['scaler']\n",
        "feature_names = rf_obj['feature_names']\n",
        "X_train, X_test, y_train, y_test = train_test_split(X, y, test_size=0.1, random_state=42)\n",
        "\n",
        "# Train best model on all data\n",
        "rf_model = best_model.fit(X_train, y_train)\n",
        "y_predictions = rf_model.predict(X_test)\n",
        "y_probabilities = rf_model.predict_proba(X_test)[:, 1]\n",
        "\n",
        "rf_metrics, rf_markdown = evaluate_model(\n",
        "    y_test,\n",
        "    y_predictions,\n",
        "    y_probabilities,\n",
        "    model_name=\"Random Forest\"\n",
        ")\n",
        "\n",
        "display(Markdown(rf_markdown))\n",
        "\n",
        "print(f\"Completed training on {len(X_train)} rows\")"
      ]
    },
    {
      "cell_type": "code",
      "execution_count": 13,
      "metadata": {},
      "outputs": [
        {
          "name": "stdout",
          "output_type": "stream",
          "text": [
            "Model and preprocessors saved.\n",
            "\n",
            "Final model saved to models/random_forest_model.pkl\n"
          ]
        }
      ],
      "source": [
        "# --- Save the final model ---\n",
        "os.makedirs(\"models\", exist_ok=True)\n",
        "joblib.dump(rf_model, \"models/random_forest_model.pkl\")\n",
        "joblib.dump(X_train, \"models/rf_X_train.pkl\")\n",
        "joblib.dump(y_train, \"models/rf_y_train.pkl\")\n",
        "joblib.dump(X_test, \"models/rf_X_test.pkl\")\n",
        "joblib.dump(y_test, \"models/rf_y_test.pkl\")\n",
        "joblib.dump(scaler, \"models/rf_scaler.pkl\")\n",
        "joblib.dump(encoder, \"models/rf_encoder.pkl\")\n",
        "joblib.dump(feature_names, \"models/rf_feature_names.pkl\")\n",
        "print(\"Model and preprocessors saved.\")\n",
        "\n",
        "print(\"\\nFinal model saved to models/random_forest_model.pkl\")\n"
      ]
    },
    {
      "cell_type": "code",
      "execution_count": 14,
      "metadata": {},
      "outputs": [
        {
          "name": "stdout",
          "output_type": "stream",
          "text": [
            "Using existing complexity features from DataFrame...\n"
          ]
        },
        {
          "data": {
            "text/markdown": [
              "# Random Forest Evaluation Results\n",
              "\n",
              "## Metrics\n",
              "\n",
              "| Metric                    | Score    |\n",
              "|---------------------------|----------|\n",
              "| Validation Accuracy       | 0.6596 |\n",
              "| Validation F1 Score (weighted) | 0.6335 |\n",
              "| Validation Precision (weighted) | 0.6528 |\n",
              "| Validation Recall (class 1) | 0.8619 |\n",
              "| Binary Precision (class 1) | 0.6683 |\n",
              "| Binary F1 Score (class 1) | 0.7529 |\n",
              "| ROC-AUC Score             | 0.6863 |\n",
              "\n",
              "## Detailed Classification Report\n",
              "\n",
              "```\n",
              "              precision    recall  f1-score   support\n",
              "\n",
              "           0       0.63      0.35      0.45      3984\n",
              "           1       0.67      0.86      0.75      6016\n",
              "\n",
              "    accuracy                           0.66     10000\n",
              "   macro avg       0.65      0.61      0.60     10000\n",
              "weighted avg       0.65      0.66      0.63     10000\n",
              "\n",
              "```\n"
            ],
            "text/plain": [
              "<IPython.core.display.Markdown object>"
            ]
          },
          "metadata": {},
          "output_type": "display_data"
        }
      ],
      "source": [
        "val_df = pd.read_csv('../data/validation.csv')\n",
        "\n",
        "# Process data for Random Forest\n",
        "rf_obj = process_data_for_rf(val_df)\n",
        "rf_X = rf_obj['X']\n",
        "rf_y = rf_obj['y'] \n",
        "\n",
        "rf_y_predictions = rf_model.predict(rf_X)\n",
        "rf_y_probabilities = rf_model.predict_proba(rf_X)[:, 1]\n",
        "\n",
        "# For Random Forest\n",
        "rf_metrics, rf_markdown = evaluate_model(\n",
        "    rf_y,\n",
        "    rf_y_predictions,\n",
        "    y_prob=rf_y_probabilities,\n",
        "    model_name=\"Random Forest\"\n",
        ")\n",
        "\n",
        "display(Markdown(rf_markdown))\n"
      ]
    }
  ],
  "metadata": {
    "colab": {
      "provenance": []
    },
    "kernelspec": {
      "display_name": ".venv",
      "language": "python",
      "name": "python3"
    },
    "language_info": {
      "codemirror_mode": {
        "name": "ipython",
        "version": 3
      },
      "file_extension": ".py",
      "mimetype": "text/x-python",
      "name": "python",
      "nbconvert_exporter": "python",
      "pygments_lexer": "ipython3",
      "version": "3.12.6"
    }
  },
  "nbformat": 4,
  "nbformat_minor": 0
}
