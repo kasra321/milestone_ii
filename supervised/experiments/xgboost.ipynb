{
  "cells": [
    {
      "cell_type": "markdown",
      "id": "7-ohYE41yAlN",
      "metadata": {
        "id": "7-ohYE41yAlN"
      },
      "source": [
        "# XGBoost Model with Transformer Embeddings and PCA\n",
        "\n",
        "This notebook outlines the process for building and ealuating an XGBoost model with principal component analysis using two columns from the \"merged.csv\" dataset consisting of `chiefcomplaint` and `disposition`. The process includes:\n",
        "\n",
        "- Create embeddings for `chiefcomplaint` using the transformer model `BAAI/bge-large-en`\n",
        "- Saving the embeddings to disk\n",
        "- Reducing dimensions with PCA and visualizing explained variance (see pca.ipynb)\n",
        "- Preprocessing target labels and normalizing features\n",
        "- Splitting data into training and test sets, saving test sets\n",
        "- Hyperparameter tuning using kfold validation and grid search\n",
        "- Training a final XGBoost model and evaluating performance\n",
        "- Saving the final model and associated preprocessing objects"
      ]
    },
    {
      "cell_type": "code",
      "execution_count": 10,
      "id": "d4e0a3d1",
      "metadata": {
        "colab": {
          "base_uri": "https://localhost:8080/"
        },
        "id": "d4e0a3d1",
        "outputId": "e521f21f-d76e-4646-d675-71b60361b4c0"
      },
      "outputs": [],
      "source": [
        "import sys\n",
        "sys.path.append('..')\n",
        "\n",
        "import os\n",
        "import warnings\n",
        "import joblib\n",
        "import numpy as np\n",
        "import pandas as pd\n",
        "import torch\n",
        "import matplotlib.pyplot as plt\n",
        "from joblib import Parallel, delayed, parallel_backend\n",
        "from tqdm import tqdm\n",
        "from sklearn.decomposition import PCA\n",
        "from sklearn.model_selection import train_test_split, GridSearchCV, StratifiedKFold, ParameterGrid\n",
        "from sklearn.preprocessing import StandardScaler, LabelEncoder\n",
        "from sklearn.metrics import confusion_matrix, accuracy_score, f1_score, classification_report, roc_auc_score\n",
        "from sklearn.utils import shuffle\n",
        "from xgboost import XGBClassifier\n",
        "\n",
        "from transformers import AutoTokenizer, AutoModel\n",
        "\n",
        "from utils.data_utils import load_data, process_data_for_xgboost\n",
        "from utils.embeddings import EmbeddingExtractor\n",
        "from utils.evaluation import evaluate_model\n",
        "\n",
        "from IPython.display import display, Markdown\n",
        "\n",
        "# Set random seed\n",
        "RANDOM_STATE = 42\n",
        "SAMPLE_SIZE = 1000\n",
        "DEFAULT_PCA_COMPONENTS = 80\n",
        "EMBEDDING_MODEL_NAME = \"BAAI/bge-m3\"\n",
        "\n",
        "# disable \"This warning can be disabled by setting the `HF_HUB_DISABLE_SYMLINKS_WARNING` environment variable.\"\n",
        "os.environ[\"HF_HUB_DISABLE_SYMLINKS_WARNING\"] = \"1\""
      ]
    },
    {
      "cell_type": "markdown",
      "id": "btsSjXJlyAlP",
      "metadata": {
        "id": "btsSjXJlyAlP"
      },
      "source": [
        "### Load Data\n",
        "\n",
        "We load the pre-cleaned data, and extract text embeddings from the `chiefcomplaint` field using the transformer model."
      ]
    },
    {
      "cell_type": "code",
      "execution_count": 11,
      "id": "24b8bd2d",
      "metadata": {},
      "outputs": [
        {
          "data": {
            "text/plain": [
              "(1000, 37)"
            ]
          },
          "execution_count": 11,
          "metadata": {},
          "output_type": "execute_result"
        }
      ],
      "source": [
        "df_10k = load_data('../data/train.csv', SAMPLE_SIZE)\n",
        "df_10k.shape"
      ]
    },
    {
      "cell_type": "markdown",
      "id": "52220946",
      "metadata": {},
      "source": [
        "### Load Embeddings"
      ]
    },
    {
      "cell_type": "code",
      "execution_count": 12,
      "id": "327237dc",
      "metadata": {},
      "outputs": [
        {
          "name": "stdout",
          "output_type": "stream",
          "text": [
            "Loading cached embeddings from embeddings\\embeddings_c02b40ebda187d7d215640e3e1a26cac.joblib...\n",
            "Loaded existing embeddings, shape: (1000, 1024)\n",
            "Final embeddings shape: (1000, 1024)\n"
          ]
        }
      ],
      "source": [
        "embedder = EmbeddingExtractor()\n",
        "embeddings = embedder.get_or_create_embeddings(df_10k)\n",
        "print(f\"Final embeddings shape: {embeddings.shape}\")"
      ]
    },
    {
      "cell_type": "markdown",
      "id": "b028d2aa",
      "metadata": {},
      "source": [
        "## Data Preprocessing"
      ]
    },
    {
      "cell_type": "markdown",
      "id": "L1eyr8yOyAlP",
      "metadata": {
        "id": "L1eyr8yOyAlP"
      },
      "source": [
        "### PCA for Dimensionality Reduction\n",
        "\n",
        "We apply PCA to the embeddings and plot the cumulative explained variance to show how many components are needed.\n",
        "\n",
        "#### PCA Evaluation and Decision\n",
        "\n",
        "After evaluating multiple metrics—including the cumulative explained variance, scree plot, eigenvalue analysis, and parallel analysis—the following insights were obtained:\n",
        "\n",
        "- **95% Variance Threshold:** The analysis on full-dimensional PCA indicated that a larger number of components are needed to capture 95% of the variance.\n",
        "- **Scree Plot & Eigenvalue Analysis:** These methods revealed a significant drop in variance explained after the initial components, with many later components having eigenvalues less than 1.\n",
        "- **Parallel Analysis:** Comparing the eigenvalues from the real data against those from random data confirmed that many components in the full dataset contribute minimal unique information.\n",
        "- **Comparison for Specific Component Counts:** When evaluating selected component counts (53, 80, 89, 96), the 80-component solution achieved a substantial retention of variance while avoiding unnecessary complexity.\n",
        "\n",
        "**Final Components:** We have chosen **80 components** as the optimal balance between dimensionality reduction and preserving the integrity of the data. This choice improves model efficiency and reduces noise without sacrificing key information.\n"
      ]
    },
    {
      "cell_type": "code",
      "execution_count": 13,
      "id": "81efa578",
      "metadata": {},
      "outputs": [],
      "source": [
        "# Scale data, get scaler and label_encoder\n",
        "xgb_obj = process_data_for_xgboost(embeddings, df_10k['disposition'], training=True)\n",
        "X = xgb_obj['X']\n",
        "y = xgb_obj['y']\n",
        "scaler = xgb_obj['scaler']\n",
        "pca = xgb_obj['pca']\n",
        "\n",
        "\n",
        "# Then split the PCA-transformed data\n",
        "X_train, X_test, y_train, y_test = train_test_split(X, y, test_size=0.1, random_state=42)\n"
      ]
    },
    {
      "cell_type": "code",
      "execution_count": 14,
      "id": "6ee52683",
      "metadata": {},
      "outputs": [],
      "source": [
        "def plot_pca_variance(ax, pca, title='PCA Explained Variance vs. Number of Components', threshold=0.90):\n",
        "    cum_var = np.cumsum(pca.explained_variance_ratio_)\n",
        "    ax.plot(range(1, len(cum_var)+1), cum_var, marker='o')\n",
        "    ax.set_xlabel('Number of Components')\n",
        "    ax.set_ylabel('Cumulative Explained Variance')\n",
        "    ax.set_title(title)\n",
        "    ax.axhline(y=threshold, color='r', linestyle='--', label=f'{int(threshold*100)}% Variance')\n",
        "    ax.legend()\n",
        "    ax.grid(True)\n"
      ]
    },
    {
      "cell_type": "code",
      "execution_count": 15,
      "id": "89fdad58",
      "metadata": {},
      "outputs": [
        {
          "data": {
            "image/png": "[encoded data removed]",
            "text/plain": [
              "<Figure size 800x600 with 1 Axes>"
            ]
          },
          "metadata": {},
          "output_type": "display_data"
        }
      ],
      "source": [
        "fig, ax = plt.subplots(figsize=(8,6))\n",
        "plot_pca_variance(ax, pca, title='PCA Variance (80 Components)', threshold=0.90)\n",
        "plt.tight_layout()\n",
        "plt.show()"
      ]
    },
    {
      "cell_type": "markdown",
      "id": "2Lubx_WbyAlQ",
      "metadata": {
        "id": "2Lubx_WbyAlQ"
      },
      "source": [
        "## Hyperparameter Tuning with XGBoost\n",
        "\n",
        "We use GridSearchCV with cross-validation on the subset to tune XGBoost hyperparameters."
      ]
    },
    {
      "cell_type": "code",
      "execution_count": 16,
      "id": "5aef93a8",
      "metadata": {
        "colab": {
          "base_uri": "https://localhost:8080/"
        },
        "id": "5aef93a8",
        "outputId": "ab7a5bbf-e246-4d63-dbd2-d56234917179"
      },
      "outputs": [],
      "source": [
        "def tune_xgboost(X, y):\n",
        "    print(f\"Performing hyperparameter tuning using {X.shape[0]} rows\")\n",
        "    \n",
        "    # Check CUDA availability\n",
        "    import torch\n",
        "    cuda_available = torch.cuda.is_available()\n",
        "    device = 'cuda' if cuda_available else 'cpu'\n",
        "    \n",
        "    param_grid = {\n",
        "        \"n_estimators\": [50, 100],\n",
        "        \"max_depth\": [3, 5, 7],\n",
        "        \"learning_rate\": [0.01, 0.1, 0.2],\n",
        "        \"subsample\": [0.7, 1.0],\n",
        "        \"tree_method\": [\"hist\"],\n",
        "        \"device\": [device]  # Use the detected device\n",
        "    }\n",
        "    cv = StratifiedKFold(n_splits=5, shuffle=True, random_state=RANDOM_STATE)\n",
        "    param_list = list(ParameterGrid(param_grid))\n",
        "\n",
        "    def evaluate_params(params):\n",
        "        scores = []\n",
        "        last_model = None\n",
        "        for train_idx, val_idx in cv.split(X, y):\n",
        "            # Split the data (which is already PCA transformed)\n",
        "            if isinstance(X, pd.DataFrame):\n",
        "                X_train, X_val = X.iloc[train_idx], X.iloc[val_idx]\n",
        "            else:\n",
        "                X_train, X_val = X[train_idx], X[val_idx]\n",
        "            y_train, y_val = y[train_idx], y[val_idx]\n",
        "\n",
        "            # Create model with the detected device\n",
        "            model = XGBClassifier(\n",
        "                **params,\n",
        "                eval_metric=\"logloss\",\n",
        "                random_state=RANDOM_STATE,\n",
        "                n_jobs=1\n",
        "            )\n",
        "            \n",
        "            # If using GPU, ensure data is on GPU\n",
        "            if params['device'] == 'cuda':\n",
        "                try:\n",
        "                    # Convert to torch tensor and back to ensure GPU compatibility\n",
        "                    X_train_device = torch.tensor(X_train).cuda().cpu().numpy()\n",
        "                    X_val_device = torch.tensor(X_val).cuda().cpu().numpy()\n",
        "                    \n",
        "                    model.fit(\n",
        "                        X_train_device, y_train,\n",
        "                        eval_set=[(X_val_device, y_val)],\n",
        "                        verbose=False\n",
        "                    )\n",
        "                    preds = model.predict(X_val_device)\n",
        "                except Exception as e:\n",
        "                    print(f\"GPU error: {e}, falling back to CPU\")\n",
        "                    # Fall back to CPU if GPU fails\n",
        "                    params['device'] = 'cpu'\n",
        "                    model.set_param({'device': 'cpu'})\n",
        "                    model.fit(\n",
        "                        X_train, y_train,\n",
        "                        eval_set=[(X_val, y_val)],\n",
        "                        verbose=False\n",
        "                    )\n",
        "                    preds = model.predict(X_val)\n",
        "            else:\n",
        "                # CPU training\n",
        "                model.fit(\n",
        "                    X_train, y_train,\n",
        "                    eval_set=[(X_val, y_val)],\n",
        "                    verbose=False\n",
        "                )\n",
        "                preds = model.predict(X_val)\n",
        "                \n",
        "            scores.append(accuracy_score(y_val, preds))\n",
        "            last_model = model\n",
        "        return np.mean(scores), params, last_model\n",
        "\n",
        "    results = Parallel(n_jobs=2)(\n",
        "        delayed(evaluate_params)(params) for params in tqdm(param_list, desc=\"Tuning XGBoost\")\n",
        "    )\n",
        "    best_score, best_params, best_model = max(results, key=lambda x: x[0])\n",
        "    return best_model, best_params"
      ]
    },
    {
      "cell_type": "code",
      "execution_count": 17,
      "id": "60d3eddc",
      "metadata": {},
      "outputs": [
        {
          "name": "stdout",
          "output_type": "stream",
          "text": [
            "Performing hyperparameter tuning using 900 rows\n"
          ]
        },
        {
          "name": "stderr",
          "output_type": "stream",
          "text": [
            "Tuning XGBoost: 100%|██████████| 36/36 [00:56<00:00,  1.56s/it]\n"
          ]
        }
      ],
      "source": [
        "# Run on sample dataset\n",
        "best_model, best_params = tune_xgboost(X_train, y_train)\n"
      ]
    },
    {
      "cell_type": "code",
      "execution_count": 18,
      "id": "DvxfWBbBPe2r",
      "metadata": {
        "colab": {
          "base_uri": "https://localhost:8080/"
        },
        "id": "DvxfWBbBPe2r",
        "outputId": "746775fe-0c5a-429b-b45b-564259201f02"
      },
      "outputs": [
        {
          "name": "stdout",
          "output_type": "stream",
          "text": [
            "Best Parameters: {'device': 'cuda', 'learning_rate': 0.1, 'max_depth': 3, 'n_estimators': 100, 'subsample': 1.0, 'tree_method': 'hist'}\n",
            "Subset Validation Accuracy: 0.62\n"
          ]
        }
      ],
      "source": [
        "warnings.filterwarnings('ignore', category=UserWarning)\n",
        "warnings.filterwarnings('ignore', category=UserWarning, module='xgboost')\n",
        "print(\"Best Parameters:\", best_params)\n",
        "print(\"Subset Validation Accuracy:\", accuracy_score(y_test, best_model.predict(X_test)))"
      ]
    },
    {
      "cell_type": "markdown",
      "id": "4lmFZsq4yAlQ",
      "metadata": {
        "id": "4lmFZsq4yAlQ"
      },
      "source": [
        "## Final Training and Evaluation\n",
        "\n",
        "Using the tuned parameters, we train the final XGBoost model on the full dataset split and evaluate its performance."
      ]
    },
    {
      "cell_type": "code",
      "execution_count": 19,
      "id": "0f03c667",
      "metadata": {
        "colab": {
          "base_uri": "https://localhost:8080/"
        },
        "id": "0f03c667",
        "outputId": "8b186201-eda2-4fbf-e0a2-2adfc064ae3f"
      },
      "outputs": [
        {
          "name": "stdout",
          "output_type": "stream",
          "text": [
            "Best Model Test Accuracy: 0.62\n",
            "              precision    recall  f1-score   support\n",
            "\n",
            "           0       0.48      0.32      0.39        37\n",
            "           1       0.67      0.79      0.72        63\n",
            "\n",
            "    accuracy                           0.62       100\n",
            "   macro avg       0.57      0.56      0.56       100\n",
            "weighted avg       0.60      0.62      0.60       100\n",
            "\n"
          ]
        }
      ],
      "source": [
        "# Save the final model and preprocessors\n",
        "# os.makedirs(\"models\", exist_ok=True)\n",
        "# joblib.dump(best_model, \"models/xgboost_model.pkl\")\n",
        "# joblib.dump(scaler, \"models/xgb_scaler.pkl\")\n",
        "# joblib.dump(pca, \"models/xgb_pca.pkl\")\n",
        "# joblib.dump(encoder, \"models/xgb_encoder.pkl\")\n",
        "# print(\"Model and preprocessors saved.\")\n",
        "\n",
        "y_pred = best_model.predict(X_test)\n",
        "print(\"Best Model Test Accuracy:\", accuracy_score(y_test, y_pred))\n",
        "print(classification_report(y_test, y_pred))"
      ]
    },
    {
      "cell_type": "markdown",
      "id": "965524dc",
      "metadata": {},
      "source": [
        "### Train the best model on the full data set now"
      ]
    },
    {
      "cell_type": "code",
      "execution_count": 21,
      "id": "e671a1f3",
      "metadata": {},
      "outputs": [
        {
          "name": "stdout",
          "output_type": "stream",
          "text": [
            "Dataframe shape: (410326, 37)\n",
            "Creating new embeddings... Reason: Cache file not found\n"
          ]
        },
        {
          "name": "stderr",
          "output_type": "stream",
          "text": [
            "Extracting embeddings: 100%|██████████| 410326/410326 [1:30:10<00:00, 75.84it/s]  \n"
          ]
        },
        {
          "name": "stdout",
          "output_type": "stream",
          "text": [
            "Created embeddings, shape: (410326, 1024)\n",
            "Cached embeddings saved to embeddings\\embeddings_a5cc2cfb75154104141f360e5b20d650.joblib\n",
            "Final embeddings shape: (410326, 1024)\n",
            "Performing hyperparameter tuning using 369293 rows\n"
          ]
        },
        {
          "name": "stderr",
          "output_type": "stream",
          "text": [
            "Tuning XGBoost: 100%|██████████| 36/36 [07:15<00:00, 12.10s/it]\n"
          ]
        },
        {
          "data": {
            "text/markdown": [
              "# XGBoost Evaluation Results\n",
              "\n",
              "## Metrics\n",
              "\n",
              "| Metric                    | Score    |\n",
              "|---------------------------|----------|\n",
              "| Validation Accuracy       | 0.7371 |\n",
              "| Validation F1 Score (weighted) | 0.7288 |\n",
              "| Validation Precision (weighted) | 0.7343 |\n",
              "| Validation Recall (class 1) | 0.8602 |\n",
              "| Binary Precision (class 1) | 0.7460 |\n",
              "| Binary F1 Score (class 1) | 0.7991 |\n",
              "| ROC-AUC Score             | 0.7952 |\n",
              "\n",
              "## Detailed Classification Report\n",
              "\n",
              "```\n",
              "              precision    recall  f1-score   support\n",
              "\n",
              "           0       0.72      0.55      0.62     16100\n",
              "           1       0.75      0.86      0.80     24933\n",
              "\n",
              "    accuracy                           0.74     41033\n",
              "   macro avg       0.73      0.70      0.71     41033\n",
              "weighted avg       0.73      0.74      0.73     41033\n",
              "\n",
              "```\n",
              "\n",
              "## Sample of Predictions in Original Labels\n",
              "\n",
              "`['HOME' 'HOME' 'HOME' 'ADMITTED' 'ADMITTED'] ...`\n"
            ],
            "text/plain": [
              "<IPython.core.display.Markdown object>"
            ]
          },
          "metadata": {},
          "output_type": "display_data"
        },
        {
          "name": "stdout",
          "output_type": "stream",
          "text": [
            "Model and preprocessors saved.\n"
          ]
        }
      ],
      "source": [
        "# Load all data\n",
        "df_full = load_data('../data/train.csv')\n",
        "print(\"Dataframe shape:\", df_full.shape)\n",
        "\n",
        "# Create embeddings, comment out if already done\n",
        "embedder = EmbeddingExtractor()\n",
        "embeddings = embedder.get_or_create_embeddings(df_full)\n",
        "print(f\"Final embeddings shape: {embeddings.shape}\")\n",
        "\n",
        "# Process data, scale, encode, apply pca\n",
        "xgb_obj = process_data_for_xgboost(embeddings, df_full['disposition'], training=True)\n",
        "X = xgb_obj['X']\n",
        "y = xgb_obj['y']\n",
        "scaler = xgb_obj['scaler']\n",
        "encoder= xgb_obj['encoder']\n",
        "pca = xgb_obj['pca']\n",
        "\n",
        "# Then split the PCA-transformed data\n",
        "X_train, X_test, y_train, y_test = train_test_split(X, y, test_size=0.1, random_state=42)\n",
        "\n",
        "# Find the best parameters:\n",
        "best_model, best_params = tune_xgboost(X_train, y_train)\n",
        "\n",
        "# Train a final model\n",
        "xgb_model = XGBClassifier(**best_params, eval_metric=\"logloss\", random_state=42)\n",
        "xgb_model.fit(X_train, y_train)\n",
        "\n",
        "# Test final model\n",
        "y_predictions = xgb_model.predict(X_test)\n",
        "y_probabilities = xgb_model.predict_proba(X_test)[:,1]\n",
        "\n",
        "xgb_metrics, xgb_markdown = evaluate_model(\n",
        "    y_test, \n",
        "    y_predictions,\n",
        "    y_probabilities,\n",
        "    model_name=\"XGBoost\",\n",
        "    label_encoder=encoder\n",
        ")\n",
        "\n",
        "display(Markdown(xgb_markdown))\n",
        "\n",
        "# Save the final model and preprocessors\n",
        "os.makedirs(\"models\", exist_ok=True)\n",
        "joblib.dump(xgb_model, \"models/xgboost_model.pkl\")\n",
        "joblib.dump(X_test, \"models/xgb_X_test.pkl\")\n",
        "joblib.dump(y_test, \"models/xgb_y_test.pkl\")\n",
        "joblib.dump(scaler, \"models/xgb_scaler.pkl\")\n",
        "joblib.dump(encoder, \"models/xgb_encoder.pkl\")\n",
        "joblib.dump(pca, \"models/xgb_pca.pkl\")\n",
        "print(\"Model and preprocessors saved.\")"
      ]
    },
    {
      "cell_type": "code",
      "execution_count": 22,
      "id": "65eaf7b1",
      "metadata": {},
      "outputs": [
        {
          "data": {
            "text/markdown": [
              "# XGBoost Evaluation Results\n",
              "\n",
              "## Metrics\n",
              "\n",
              "| Metric                    | Score    |\n",
              "|---------------------------|----------|\n",
              "| Validation Accuracy       | 0.7371 |\n",
              "| Validation F1 Score (weighted) | 0.7288 |\n",
              "| Validation Precision (weighted) | 0.7343 |\n",
              "| Validation Recall (class 1) | 0.8602 |\n",
              "| Binary Precision (class 1) | 0.7460 |\n",
              "| Binary F1 Score (class 1) | 0.7991 |\n",
              "| ROC-AUC Score             | 0.7952 |\n",
              "\n",
              "## Detailed Classification Report\n",
              "\n",
              "```\n",
              "              precision    recall  f1-score   support\n",
              "\n",
              "           0       0.72      0.55      0.62     16100\n",
              "           1       0.75      0.86      0.80     24933\n",
              "\n",
              "    accuracy                           0.74     41033\n",
              "   macro avg       0.73      0.70      0.71     41033\n",
              "weighted avg       0.73      0.74      0.73     41033\n",
              "\n",
              "```\n",
              "\n",
              "## Sample of Predictions in Original Labels\n",
              "\n",
              "`['HOME' 'HOME' 'HOME' 'ADMITTED' 'ADMITTED'] ...`\n"
            ],
            "text/plain": [
              "<IPython.core.display.Markdown object>"
            ]
          },
          "metadata": {},
          "output_type": "display_data"
        }
      ],
      "source": [
        "\n",
        "# Load the saved model and make predictions\n",
        "xgb_model = joblib.load(\"models/xgboost_model.pkl\")\n",
        "\n",
        "y_pred = xgb_model.predict(X_test)\n",
        "y_prob = xgb_model.predict_proba(X_test)[:, 1]\n",
        "\n",
        "xgb_metrics, xgb_markdown = evaluate_model(\n",
        "    y_test, \n",
        "    y_pred,\n",
        "    y_prob,\n",
        "    model_name=\"XGBoost\",\n",
        "    label_encoder=encoder\n",
        ")\n",
        "\n",
        "display(Markdown(xgb_markdown))\n"
      ]
    },
    {
      "cell_type": "markdown",
      "id": "DtBb78oPyAlQ",
      "metadata": {
        "id": "DtBb78oPyAlQ"
      },
      "source": [
        "## Conclusion\n",
        "\n",
        "The model shows moderate performance overall. Its AUC-ROC of 0.79 indicates decent discrimination between the admit and home classes, and an accuracy of 0.73 supports this. Notably, the model performs particularly well for predicting admissions (class 1), achieving a high recall of 0.86 and an F1 score of 0.80, which suggests it is effective at identifying patients who will be admitted. However, the lower recall (0.54) for predicting home discharges (class 0) indicates it misses a significant portion of those cases. Overall, while the weighted F1 score of 0.73 is reasonable, there’s room for improvement, especially in accurately identifying patients who will be discharged home.\n",
        "\n",
        "The final model and all preprocessing objects have been saved for future inference. Please refer to the last cell for details. "
      ]
    },
    {
      "cell_type": "code",
      "execution_count": 30,
      "id": "9cde2e16",
      "metadata": {},
      "outputs": [
        {
          "name": "stdout",
          "output_type": "stream",
          "text": [
            "Model and preprocessors saved.\n"
          ]
        }
      ],
      "source": [
        "# Save the final model and preprocessors\n",
        "os.makedirs(\"models\", exist_ok=True)\n",
        "joblib.dump(xgb_model, \"models/xgboost_model.pkl\")\n",
        "joblib.dump(X_test, \"models/xgb_X_test.pkl\")\n",
        "joblib.dump(y_test, \"models/xgb_y_test.pkl\")\n",
        "joblib.dump(scaler, \"models/xgb_scaler.pkl\")\n",
        "joblib.dump(encoder, \"models/xgb_encoder.pkl\")\n",
        "joblib.dump(pca, \"models/xgb_pca.pkl\")\n",
        "print(\"Model and preprocessors saved.\")"
      ]
    },
    {
      "cell_type": "code",
      "execution_count": 31,
      "id": "eee5492d",
      "metadata": {},
      "outputs": [],
      "source": [
        "# Load saved preprocessing objects and model\n",
        "scaler = joblib.load('models/xgb_scaler.pkl')\n",
        "encoder = joblib.load('models/xgb_encoder.pkl')\n",
        "xgb_model = joblib.load('models/xgboost_model.pkl')\n",
        "pca_obj = joblib.load('models/xgb_pca.pkl')"
      ]
    },
    {
      "cell_type": "code",
      "execution_count": 33,
      "id": "a1230884",
      "metadata": {},
      "outputs": [
        {
          "name": "stdout",
          "output_type": "stream",
          "text": [
            "Creating new embeddings... Reason: Cache file not found\n"
          ]
        },
        {
          "name": "stderr",
          "output_type": "stream",
          "text": [
            "Extracting embeddings: 100%|██████████| 10000/10000 [01:54<00:00, 87.49it/s]\n"
          ]
        },
        {
          "name": "stdout",
          "output_type": "stream",
          "text": [
            "Created embeddings, shape: (10000, 1024)\n",
            "Cached embeddings saved to embeddings\\embeddings_72b6a1c2c4649a83369e1c627e8fc462.joblib\n"
          ]
        },
        {
          "data": {
            "text/markdown": [
              "# XGBoost Evaluation Results\n",
              "\n",
              "## Metrics\n",
              "\n",
              "| Metric                    | Score    |\n",
              "|---------------------------|----------|\n",
              "| Validation Accuracy       | 0.7252 |\n",
              "| Validation F1 Score (weighted) | 0.7160 |\n",
              "| Validation Precision (weighted) | 0.7226 |\n",
              "| Validation Recall (class 1) | 0.8547 |\n",
              "| Binary Precision (class 1) | 0.7329 |\n",
              "| Binary F1 Score (class 1) | 0.7891 |\n",
              "| ROC-AUC Score             | 0.7848 |\n",
              "\n",
              "## Detailed Classification Report\n",
              "\n",
              "```\n",
              "              precision    recall  f1-score   support\n",
              "\n",
              "           0       0.71      0.53      0.61      3984\n",
              "           1       0.73      0.85      0.79      6016\n",
              "\n",
              "    accuracy                           0.73     10000\n",
              "   macro avg       0.72      0.69      0.70     10000\n",
              "weighted avg       0.72      0.73      0.72     10000\n",
              "\n",
              "```\n",
              "\n",
              "## Sample of Predictions in Original Labels\n",
              "\n",
              "`['HOME' 'ADMITTED' 'HOME' 'ADMITTED' 'HOME'] ...`\n"
            ],
            "text/plain": [
              "<IPython.core.display.Markdown object>"
            ]
          },
          "metadata": {},
          "output_type": "display_data"
        }
      ],
      "source": [
        "val_df = pd.read_csv('../data/validation.csv')\n",
        "\n",
        "# Process data for XGBoost\n",
        "with warnings.catch_warnings():\n",
        "    warnings.filterwarnings('ignore', category=UserWarning)\n",
        "    embedder = EmbeddingExtractor()\n",
        "    embeddings = embedder.get_or_create_embeddings(val_df)\n",
        "    xgb_obj = process_data_for_xgboost(embeddings, \n",
        "                                       val_df['disposition'],\n",
        "                                       pca_obj=pca_obj,\n",
        "                                       training=False,)\n",
        "    xgb_X = xgb_obj['X']\n",
        "    xgb_y = xgb_obj['y']\n",
        "    \n",
        "xgb_y_predictions = xgb_model.predict(xgb_X)\n",
        "xgb_y_probabilities = xgb_model.predict_proba(xgb_X)[:,1]\n",
        "\n",
        "# For XGBoost\n",
        "xgb_metrics, xgb_markdown = evaluate_model(\n",
        "    xgb_y, \n",
        "    xgb_y_predictions,\n",
        "    xgb_y_probabilities,\n",
        "    model_name=\"XGBoost\",\n",
        "    label_encoder=encoder\n",
        ")\n",
        "\n",
        "display(Markdown(xgb_markdown))"
      ]
    }
  ],
  "metadata": {
    "colab": {
      "provenance": []
    },
    "kernelspec": {
      "display_name": ".venv",
      "language": "python",
      "name": "python3"
    },
    "language_info": {
      "codemirror_mode": {
        "name": "ipython",
        "version": 3
      },
      "file_extension": ".py",
      "mimetype": "text/x-python",
      "name": "python",
      "nbconvert_exporter": "python",
      "pygments_lexer": "ipython3",
      "version": "3.12.6"
    }
  },
  "nbformat": 4,
  "nbformat_minor": 5
}
