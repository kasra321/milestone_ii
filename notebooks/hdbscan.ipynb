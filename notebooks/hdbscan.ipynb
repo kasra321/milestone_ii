{
 "cells": [
  {
   "cell_type": "markdown",
   "metadata": {},
   "source": [
    "# import libraries\n"
   ]
  },
  {
   "cell_type": "code",
   "execution_count": 1,
   "metadata": {},
   "outputs": [
    {
     "ename": "ModuleNotFoundError",
     "evalue": "No module named 'src.DatePreprocessor'",
     "output_type": "error",
     "traceback": [
      "\u001b[0;31m---------------------------------------------------------------------------\u001b[0m",
      "\u001b[0;31mModuleNotFoundError\u001b[0m                       Traceback (most recent call last)",
      "Cell \u001b[0;32mIn[1], line 21\u001b[0m\n\u001b[1;32m     19\u001b[0m \u001b[38;5;66;03m# Local application imports\u001b[39;00m\n\u001b[1;32m     20\u001b[0m \u001b[38;5;28;01mfrom\u001b[39;00m\u001b[38;5;250m \u001b[39m\u001b[38;5;21;01msrc\u001b[39;00m\u001b[38;5;21;01m.\u001b[39;00m\u001b[38;5;21;01mmimicdf\u001b[39;00m\u001b[38;5;250m \u001b[39m\u001b[38;5;28;01mimport\u001b[39;00m MIMICDF\n\u001b[0;32m---> 21\u001b[0m \u001b[38;5;28;01mfrom\u001b[39;00m\u001b[38;5;250m \u001b[39m\u001b[38;5;21;01msrc\u001b[39;00m\u001b[38;5;21;01m.\u001b[39;00m\u001b[38;5;21;01mDatePreprocessor\u001b[39;00m\u001b[38;5;250m \u001b[39m\u001b[38;5;28;01mimport\u001b[39;00m DataPreprocessor\n\u001b[1;32m     23\u001b[0m \u001b[38;5;28;01mdef\u001b[39;00m\u001b[38;5;250m \u001b[39m\u001b[38;5;21msetup_mimic_connection\u001b[39m():\n\u001b[1;32m     24\u001b[0m \u001b[38;5;250m    \u001b[39m\u001b[38;5;124;03m\"\"\"\u001b[39;00m\n\u001b[1;32m     25\u001b[0m \u001b[38;5;124;03m    Initialize MIMIC database connection with GCP credentials.\u001b[39;00m\n\u001b[1;32m     26\u001b[0m \u001b[38;5;124;03m    \"\"\"\u001b[39;00m\n",
      "\u001b[0;31mModuleNotFoundError\u001b[0m: No module named 'src.DatePreprocessor'"
     ]
    }
   ],
   "source": [
    "# Standard library imports\n",
    "import os\n",
    "import sys\n",
    "from pathlib import Path\n",
    "import pandas as pd\n",
    "from google.oauth2 import service_account\n",
    "import seaborn as sns\n",
    "import matplotlib.pyplot as plt\n",
    "import warnings\n",
    "import numpy as np\n",
    "from scipy import stats, ndimage, interpolate\n",
    "from sklearn.preprocessing import StandardScaler\n",
    "import google.auth\n",
    "warnings.filterwarnings('ignore')  # Suppresses all warnings\n",
    "\n",
    "# Add parent directory to Python path for local imports\n",
    "sys.path.append('..')\n",
    "\n",
    "# Local application imports\n",
    "from src.mimicdf import MIMICDF\n",
    "from src.DatePreprocessor import DataPreprocessor\n",
    "\n",
    "def setup_mimic_connection():\n",
    "    \"\"\"\n",
    "    Initialize MIMIC database connection with GCP credentials.\n",
    "    \"\"\"\n",
    "    PROJECT_ID = 'copper-actor-403003'\n",
    "    os.environ['GCP_PROJECT_ID'] = PROJECT_ID\n",
    "    \n",
    "    # Use application default credentials\n",
    "    credentials, project = google.auth.default()\n",
    "    \n",
    "    return MIMICDF(source='gcp', credentials=credentials)\n",
    "\n",
    "# Initialize MIMIC database connection\n",
    "mimicdf = setup_mimic_connection()"
   ]
  },
  {
   "cell_type": "markdown",
   "metadata": {},
   "source": [
    "# Data Preprocessing"
   ]
  },
  {
   "cell_type": "code",
   "execution_count": 2,
   "metadata": {},
   "outputs": [
    {
     "ename": "NameError",
     "evalue": "name 'DataPreprocessor' is not defined",
     "output_type": "error",
     "traceback": [
      "\u001b[0;31m---------------------------------------------------------------------------\u001b[0m",
      "\u001b[0;31mNameError\u001b[0m                                 Traceback (most recent call last)",
      "Cell \u001b[0;32mIn[2], line 1\u001b[0m\n\u001b[0;32m----> 1\u001b[0m data_preprocessor \u001b[38;5;241m=\u001b[39m \u001b[43mDataPreprocessor\u001b[49m(mimicdf)\n\u001b[1;32m      2\u001b[0m df_clean \u001b[38;5;241m=\u001b[39m data_preprocessor\u001b[38;5;241m.\u001b[39mprepare_data()\n\u001b[1;32m      3\u001b[0m df_clean\u001b[38;5;241m.\u001b[39mhead()\n",
      "\u001b[0;31mNameError\u001b[0m: name 'DataPreprocessor' is not defined"
     ]
    }
   ],
   "source": [
    "data_preprocessor = DataPreprocessor(mimicdf)\n",
    "df_clean = data_preprocessor.prepare_data()\n",
    "df_clean.head()\n"
   ]
  },
  {
   "cell_type": "code",
   "execution_count": null,
   "metadata": {},
   "outputs": [],
   "source": [
    "df_clean.describe().T"
   ]
  },
  {
   "cell_type": "code",
   "execution_count": null,
   "metadata": {},
   "outputs": [],
   "source": [
    "# 1. Select features\n",
    "features = ['age_at_ed', 'los_minutes', 'heartrate', 'sbp', 'dbp', 'o2sat', \n",
    "           'resprate', 'temperature', 'pain']\n",
    "df_prep = df_clean[features].copy()\n",
    "\n",
    "# 2. Box-Cox transform los_minutes\n",
    "df_prep['los_minutes'], lambda_param = stats.boxcox(df_prep['los_minutes'])\n",
    "print(f\"Box-Cox lambda parameter for los_minutes: {lambda_param:.3f}\")\n",
    "\n",
    "# 3. Standard scale all other features\n",
    "other_features = [col for col in features if col != 'los_minutes']\n",
    "scaler = StandardScaler()\n",
    "df_prep[other_features] = scaler.fit_transform(df_prep[other_features])\n",
    "\n",
    "# 4. Create histograms\n",
    "n_features = len(features)\n",
    "n_cols = 3\n",
    "n_rows = (n_features + n_cols - 1) // n_cols\n",
    "\n",
    "fig, axes = plt.subplots(n_rows, n_cols, figsize=(15, 5*n_rows))\n",
    "axes = axes.ravel()  # Flatten axes array for easier indexing\n",
    "\n",
    "for idx, feature in enumerate(features):\n",
    "    axes[idx].hist(df_prep[feature], bins=50)\n",
    "    axes[idx].set_title(f'Distribution of {feature}')\n",
    "    axes[idx].set_xlabel(feature)\n",
    "    axes[idx].set_ylabel('Frequency')\n",
    "\n",
    "# Remove empty subplots if any\n",
    "for idx in range(n_features, len(axes)):\n",
    "    fig.delaxes(axes[idx])\n",
    "\n",
    "plt.tight_layout()\n",
    "plt.show()\n",
    "\n",
    "# Print basic statistics of transformed data\n",
    "print(\"\\nBasic statistics of transformed features:\")\n",
    "print(df_prep.describe().round(3))\n",
    "\n",
    "# Return the prepared DataFrame\n",
    "df_prep.head()"
   ]
  },
  {
   "cell_type": "code",
   "execution_count": null,
   "metadata": {},
   "outputs": [],
   "source": []
  }
 ],
 "metadata": {
  "kernelspec": {
   "display_name": "mimiced",
   "language": "python",
   "name": "python3"
  },
  "language_info": {
   "codemirror_mode": {
    "name": "ipython",
    "version": 3
   },
   "file_extension": ".py",
   "mimetype": "text/x-python",
   "name": "python",
   "nbconvert_exporter": "python",
   "pygments_lexer": "ipython3",
   "version": "3.11.11"
  }
 },
 "nbformat": 4,
 "nbformat_minor": 2
}
